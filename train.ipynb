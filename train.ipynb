{
 "cells": [
  {
   "cell_type": "code",
   "execution_count": null,
   "metadata": {},
   "outputs": [],
   "source": [
    "!pip install  bert-embedding --no-deps"
   ]
  },
  {
   "cell_type": "code",
   "execution_count": null,
   "metadata": {},
   "outputs": [],
   "source": [
    "! pip install gluonnlp"
   ]
  },
  {
   "cell_type": "code",
   "execution_count": null,
   "metadata": {},
   "outputs": [],
   "source": [
    "!pip install xgboost"
   ]
  },
  {
   "cell_type": "code",
   "execution_count": null,
   "metadata": {},
   "outputs": [],
   "source": [
    "!pip install hyperopt"
   ]
  },
  {
   "cell_type": "code",
   "execution_count": 1,
   "metadata": {},
   "outputs": [],
   "source": [
    "import analysis"
   ]
  },
  {
   "cell_type": "code",
   "execution_count": 2,
   "metadata": {},
   "outputs": [
    {
     "name": "stdout",
     "output_type": "stream",
     "text": [
      "{'queryId': '21bb00fd-6179-40a4-a804-1b61bd11027e', 'ResponseMetadata': {'RequestId': 'cc889515-12ef-4b1b-a43c-b28e8bc637fb', 'HTTPStatusCode': 200, 'HTTPHeaders': {'x-amzn-requestid': 'cc889515-12ef-4b1b-a43c-b28e8bc637fb', 'content-type': 'application/x-amz-json-1.1', 'content-length': '50', 'date': 'Tue, 04 Feb 2020 05:02:30 GMT'}, 'RetryAttempts': 0}}\n",
      "2020-01-09 01:21:45.949000+00:00\n",
      "162\n",
      "No clicks found in 29032d37db17c432460b1a62228cd166.html\n",
      "No clicks found in 3cca55942b88c2dd0b786fdd7ffcbadb.html\n",
      "No clicks found in 4e803f5524e1481f3707dddb388d1fc4.html\n",
      "No clicks found in 6c57ae59541b10142b6ae38ebb93d26b.html\n",
      "No clicks found in 981892cee2489e36f196f11f5d1c1419.html\n",
      "No clicks found in 9cb63e899e0ba7414a8acc38d9fd3013.html\n",
      "No clicks found in b521a454c09986f055efef10c46dfcfc.html\n",
      "No clicks found in ce51310c5c4ed6827d5ba3321ec98bfd.html\n",
      "No clicks found in dbfc2d6836e480ec167bd473b01afd55.html\n",
      "No clicks found in de58d9b176b359a08dbbf867f95ed5e2.html\n",
      "No clicks found in eba4d1e215fc9c40d62fd9cb08d81a43.html\n",
      "No clicks found in ffa759721381dc6f0e31d0f54d50e8a6.html\n",
      "100%|██████████| 20/20 [08:11<00:00, 24.59s/trial, best loss: -0.6965895540332109]\n",
      "re-cv to find early stopping\n",
      "final train\n",
      "pickle to s3\n",
      "CPU times: user 7min 16s, sys: 2min 22s, total: 9min 38s\n",
      "Wall time: 9min 36s\n"
     ]
    }
   ],
   "source": [
    "%time MODEL = analysis.train(5)"
   ]
  },
  {
   "cell_type": "markdown",
   "metadata": {},
   "source": [
    "Algorithm 1 Sentence Embedding\n",
    "Input: Word embeddings {vw : w ∈ V}, a set of sentences S, parameter a and estimated probabilities {p(w) : w ∈ V} of the words.\n",
    "Output: Sentence embeddings {vs : s ∈ S}\n",
    "1: for all sentence s in S do\n",
    "2: v_s ← 1 / |s| Sum_w∈s a / (a+p(w)) v_w\n",
    "3: end for\n",
    "4: Form a matrix X whose columns are {vs : s ∈ S}, and let u be its first singular vector\n",
    "5: for all sentence s in S do\n",
    "6: vs ← vs − uu>vs\n",
    "7: end for"
   ]
  },
  {
   "cell_type": "code",
   "execution_count": 1,
   "metadata": {},
   "outputs": [],
   "source": [
    "import analysis"
   ]
  },
  {
   "cell_type": "code",
   "execution_count": 2,
   "metadata": {},
   "outputs": [
    {
     "name": "stdout",
     "output_type": "stream",
     "text": [
      "fetching most recent model\n",
      "{'queryId': 'db120c9f-5907-4d09-9985-51a0df7219c6', 'ResponseMetadata': {'RequestId': '73f06f16-b159-4643-b894-0dd0ebe4c9ad', 'HTTPStatusCode': 200, 'HTTPHeaders': {'x-amzn-requestid': '73f06f16-b159-4643-b894-0dd0ebe4c9ad', 'content-type': 'application/x-amz-json-1.1', 'content-length': '50', 'date': 'Tue, 04 Feb 2020 05:26:27 GMT'}, 'RetryAttempts': 0}}\n",
      "2020-01-09 01:21:45.949000+00:00\n",
      "162\n",
      "Removing 12 already clicked links\n",
      "build_new_index\n",
      "update_index\n"
     ]
    }
   ],
   "source": [
    "analysis.score_index()"
   ]
  },
  {
   "cell_type": "code",
   "execution_count": null,
   "metadata": {},
   "outputs": [],
   "source": []
  }
 ],
 "metadata": {
  "kernelspec": {
   "display_name": "conda_mxnet_p36",
   "language": "python",
   "name": "conda_mxnet_p36"
  },
  "language_info": {
   "codemirror_mode": {
    "name": "ipython",
    "version": 3
   },
   "file_extension": ".py",
   "mimetype": "text/x-python",
   "name": "python",
   "nbconvert_exporter": "python",
   "pygments_lexer": "ipython3",
   "version": "3.6.5"
  }
 },
 "nbformat": 4,
 "nbformat_minor": 4
}
