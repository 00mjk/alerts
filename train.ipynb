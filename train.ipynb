{
 "cells": [
  {
   "cell_type": "code",
   "execution_count": 1,
   "metadata": {},
   "outputs": [],
   "source": [
    "import alerts.analysis"
   ]
  },
  {
   "cell_type": "code",
   "execution_count": 2,
   "metadata": {},
   "outputs": [
    {
     "name": "stdout",
     "output_type": "stream",
     "text": [
      "{'queryId': 'f95a6734-31ca-4b9f-ab2a-cb6eb52eb3f3', 'ResponseMetadata': {'RequestId': 'b68949e0-7676-4610-a8ba-94c6a391f668', 'HTTPStatusCode': 200, 'HTTPHeaders': {'x-amzn-requestid': 'b68949e0-7676-4610-a8ba-94c6a391f668', 'content-type': 'application/x-amz-json-1.1', 'content-length': '50', 'date': 'Sat, 25 Jan 2020 23:26:41 GMT'}, 'RetryAttempts': 0}}\n",
      "2020-01-01 03:13:32.404000+00:00\n",
      "146\n",
      "03e816a52bd4dd9843e38f8a7844ea4c.html\n",
      "fetch_s3\n",
      "No clicks found in 03e816a52bd4dd9843e38f8a7844ea4c.html\n",
      "088caeb33b0536d20d6fa2008ce76322.html\n",
      "fetch_s3\n",
      "No clicks found in 088caeb33b0536d20d6fa2008ce76322.html\n",
      "0ff3f316a3d7d7564b68e6b1fe7f7330.html\n",
      "fetch_s3\n",
      "1395e620f53b2497792275eca944fd0b.html\n",
      "fetch_s3\n",
      "23ac2308cb76ea8c6c71fd959aadd652.html\n",
      "fetch_s3\n",
      "No clicks found in 23ac2308cb76ea8c6c71fd959aadd652.html\n",
      "29032d37db17c432460b1a62228cd166.html\n",
      "fetch_s3\n",
      "No clicks found in 29032d37db17c432460b1a62228cd166.html\n",
      "3cca55942b88c2dd0b786fdd7ffcbadb.html\n",
      "fetch_s3\n",
      "No clicks found in 3cca55942b88c2dd0b786fdd7ffcbadb.html\n",
      "489f1ec830b15604959a383785d9cb99.html\n",
      "fetch_s3\n",
      "No clicks found in 489f1ec830b15604959a383785d9cb99.html\n",
      "4e803f5524e1481f3707dddb388d1fc4.html\n",
      "fetch_s3\n",
      "No clicks found in 4e803f5524e1481f3707dddb388d1fc4.html\n",
      "544d005d070c45df245041fc3f9cda58.html\n",
      "fetch_s3\n",
      "5b0f5bef9a72707441dc41e75b74592b.html\n",
      "fetch_s3\n",
      "No clicks found in 5b0f5bef9a72707441dc41e75b74592b.html\n",
      "5c8670e5784b3f617e7a24cb5fad6fe1.html\n",
      "fetch_s3\n",
      "6c57ae59541b10142b6ae38ebb93d26b.html\n",
      "fetch_s3\n",
      "No clicks found in 6c57ae59541b10142b6ae38ebb93d26b.html\n",
      "7e64e692b08f6850e0c6dec786a5676b.html\n",
      "fetch_s3\n",
      "7fb7a44bae9c4652dd91e251943e1f2f.html\n",
      "fetch_s3\n",
      "8a8aead7aab2117df820e276eb94d5d4.html\n",
      "fetch_s3\n",
      "9083a9751efd0e7e0fe7627ffc823a93.html\n",
      "fetch_s3\n",
      "924a82a9166f951f3cac8b29da691460.html\n",
      "fetch_s3\n",
      "98b6dba9107a0a23233a2a5607898792.html\n",
      "fetch_s3\n",
      "9cb63e899e0ba7414a8acc38d9fd3013.html\n",
      "fetch_s3\n",
      "No clicks found in 9cb63e899e0ba7414a8acc38d9fd3013.html\n",
      "b521a454c09986f055efef10c46dfcfc.html\n",
      "fetch_s3\n",
      "No clicks found in b521a454c09986f055efef10c46dfcfc.html\n",
      "bdc4c2a55adde9951b4d55d4dfee6458.html\n",
      "fetch_s3\n",
      "cc7bcd48c2c857ed76f89653bd41e673.html\n",
      "fetch_s3\n",
      "cc9b4360908abfdc939f43b80706ed78.html\n",
      "fetch_s3\n",
      "ce51310c5c4ed6827d5ba3321ec98bfd.html\n",
      "fetch_s3\n",
      "No clicks found in ce51310c5c4ed6827d5ba3321ec98bfd.html\n",
      "de58d9b176b359a08dbbf867f95ed5e2.html\n",
      "fetch_s3\n",
      "No clicks found in de58d9b176b359a08dbbf867f95ed5e2.html\n",
      "dfc645eda0805a9f5ee95e8959de5508.html\n",
      "fetch_s3\n",
      "No clicks found in dfc645eda0805a9f5ee95e8959de5508.html\n",
      "f12cecbe34c1458aee9abc295799c705.html\n",
      "fetch_s3\n",
      "fdefc08ecf671257d64432648c8720b7.html\n",
      "fetch_s3\n",
      "No clicks found in fdefc08ecf671257d64432648c8720b7.html\n",
      "ffa759721381dc6f0e31d0f54d50e8a6.html\n",
      "fetch_s3\n",
      "No clicks found in ffa759721381dc6f0e31d0f54d50e8a6.html\n",
      "index.html\n",
      "fetch_s3\n",
      "CPU times: user 392 ms, sys: 40.6 ms, total: 433 ms\n",
      "Wall time: 16.9 s\n"
     ]
    }
   ],
   "source": [
    "%time X, Y, X_prime = alerts.analysis.get_files()"
   ]
  },
  {
   "cell_type": "code",
   "execution_count": 3,
   "metadata": {},
   "outputs": [],
   "source": [
    "import xgboost"
   ]
  },
  {
   "cell_type": "code",
   "execution_count": 4,
   "metadata": {},
   "outputs": [],
   "source": [
    "from bert_embedding import BertEmbedding\n",
    "bert_embedding = BertEmbedding()"
   ]
  },
  {
   "cell_type": "code",
   "execution_count": 5,
   "metadata": {},
   "outputs": [
    {
     "name": "stdout",
     "output_type": "stream",
     "text": [
      "CPU times: user 13min 23s, sys: 49.3 s, total: 14min 12s\n",
      "Wall time: 14min 11s\n"
     ]
    }
   ],
   "source": [
    "%time result = bert_embedding(X)"
   ]
  },
  {
   "cell_type": "code",
   "execution_count": 9,
   "metadata": {},
   "outputs": [],
   "source": [
    "from collections import Counter"
   ]
  },
  {
   "cell_type": "code",
   "execution_count": 11,
   "metadata": {},
   "outputs": [],
   "source": [
    "tf = Counter()\n",
    "for i in result:\n",
    "    tf.update(i[0])"
   ]
  },
  {
   "cell_type": "code",
   "execution_count": 18,
   "metadata": {},
   "outputs": [],
   "source": [
    "N = sum(tf.values())"
   ]
  },
  {
   "cell_type": "code",
   "execution_count": 47,
   "metadata": {},
   "outputs": [],
   "source": [
    "from sklearn.feature_extraction import FeatureHasher"
   ]
  },
  {
   "cell_type": "code",
   "execution_count": 57,
   "metadata": {},
   "outputs": [],
   "source": [
    "h = FeatureHasher(n_features=100, input_type=\"string\")"
   ]
  },
  {
   "cell_type": "code",
   "execution_count": 43,
   "metadata": {},
   "outputs": [],
   "source": [
    "s = result[0]"
   ]
  },
  {
   "cell_type": "code",
   "execution_count": 72,
   "metadata": {},
   "outputs": [],
   "source": [
    "import numpy\n",
    "\n",
    "def s_from_w(s):\n",
    "    words = s[0]\n",
    "    embedding = numpy.array(s[1])\n",
    "    embedding = numpy.concatenate((embedding, h.transform(words).toarray()), axis=1)\n",
    "    weight = numpy.array([1/(1+tf[x]/N)/len(words) for x in words])\n",
    "    return weight.dot(embedding)"
   ]
  },
  {
   "cell_type": "code",
   "execution_count": 117,
   "metadata": {},
   "outputs": [],
   "source": [
    "SX = numpy.array([s_from_w(x) for x in result])"
   ]
  },
  {
   "cell_type": "code",
   "execution_count": 118,
   "metadata": {},
   "outputs": [
    {
     "data": {
      "text/plain": [
       "(5346, 868)"
      ]
     },
     "execution_count": 118,
     "metadata": {},
     "output_type": "execute_result"
    }
   ],
   "source": [
    "SX.shape"
   ]
  },
  {
   "cell_type": "code",
   "execution_count": 119,
   "metadata": {},
   "outputs": [],
   "source": [
    "from sklearn.decomposition import TruncatedSVD"
   ]
  },
  {
   "cell_type": "code",
   "execution_count": 120,
   "metadata": {},
   "outputs": [],
   "source": [
    "svd = TruncatedSVD(n_components=1, n_iter=7, random_state=42)"
   ]
  },
  {
   "cell_type": "code",
   "execution_count": 122,
   "metadata": {},
   "outputs": [
    {
     "name": "stdout",
     "output_type": "stream",
     "text": [
      "CPU times: user 438 ms, sys: 8.02 ms, total: 446 ms\n",
      "Wall time: 228 ms\n"
     ]
    },
    {
     "data": {
      "text/plain": [
       "TruncatedSVD(algorithm='randomized', n_components=1, n_iter=7,\n",
       "       random_state=42, tol=0.0)"
      ]
     },
     "execution_count": 122,
     "metadata": {},
     "output_type": "execute_result"
    }
   ],
   "source": [
    "%time svd.fit(SX)"
   ]
  },
  {
   "cell_type": "code",
   "execution_count": 123,
   "metadata": {},
   "outputs": [],
   "source": [
    "u = svd.components_"
   ]
  },
  {
   "cell_type": "code",
   "execution_count": 88,
   "metadata": {},
   "outputs": [],
   "source": [
    "#v = numpy.array([ v - (v.dot(u.transpose()))*u        for v in SX])"
   ]
  },
  {
   "cell_type": "code",
   "execution_count": 103,
   "metadata": {},
   "outputs": [],
   "source": [
    "#v.shape"
   ]
  },
  {
   "cell_type": "code",
   "execution_count": 124,
   "metadata": {},
   "outputs": [],
   "source": [
    "v2 = SX - SX.dot(u.transpose())*u"
   ]
  },
  {
   "cell_type": "code",
   "execution_count": 104,
   "metadata": {},
   "outputs": [],
   "source": [
    "#v[1,0,3]"
   ]
  },
  {
   "cell_type": "markdown",
   "metadata": {},
   "source": [
    "Algorithm 1 Sentence Embedding\n",
    "Input: Word embeddings {vw : w ∈ V}, a set of sentences S, parameter a and estimated probabilities {p(w) : w ∈ V} of the words.\n",
    "Output: Sentence embeddings {vs : s ∈ S}\n",
    "1: for all sentence s in S do\n",
    "2: v_s ← 1 / |s| Sum_w∈s a / (a+p(w)) v_w\n",
    "3: end for\n",
    "4: Form a matrix X whose columns are {vs : s ∈ S}, and let u be its first singular vector\n",
    "5: for all sentence s in S do\n",
    "6: vs ← vs − uu>vs\n",
    "7: end for"
   ]
  },
  {
   "cell_type": "code",
   "execution_count": 1,
   "metadata": {},
   "outputs": [],
   "source": [
    "import xgboost as xgb"
   ]
  },
  {
   "cell_type": "code",
   "execution_count": 127,
   "metadata": {},
   "outputs": [],
   "source": [
    "#copypasta from manual\n",
    "### load data in do training\n",
    "dtrain = xgb.DMatrix(v2, Y)"
   ]
  },
  {
   "cell_type": "code",
   "execution_count": 3,
   "metadata": {},
   "outputs": [],
   "source": [
    "param = {'max_depth':2, 'eta':1, 'silent':1, 'objective':'binary:logistic'}\n",
    "num_round = 20"
   ]
  },
  {
   "cell_type": "code",
   "execution_count": 131,
   "metadata": {},
   "outputs": [],
   "source": [
    "dtrain.save_binary(\"train.dmatrix\")"
   ]
  },
  {
   "cell_type": "code",
   "execution_count": 2,
   "metadata": {},
   "outputs": [
    {
     "name": "stdout",
     "output_type": "stream",
     "text": [
      "[00:33:02] 5346x868 matrix with 4640328 entries loaded from train.dmatrix\n"
     ]
    }
   ],
   "source": [
    "dtrain = xgb.DMatrix(\"train.dmatrix\")"
   ]
  },
  {
   "cell_type": "code",
   "execution_count": 11,
   "metadata": {},
   "outputs": [
    {
     "name": "stdout",
     "output_type": "stream",
     "text": [
      "running cross validation\n",
      "[0]\ttrain-auc:0.533422+0.00504675\ttest-auc:0.501996+0.00595748\n",
      "[1]\ttrain-auc:0.626185+0.0479941\ttest-auc:0.526923+0.0271428\n",
      "[2]\ttrain-auc:0.733682+0.0304535\ttest-auc:0.564882+0.0333571\n",
      "[3]\ttrain-auc:0.790488+0.0216768\ttest-auc:0.571301+0.0457722\n",
      "[4]\ttrain-auc:0.819986+0.0157153\ttest-auc:0.592443+0.0230354\n",
      "[5]\ttrain-auc:0.848636+0.0101834\ttest-auc:0.62169+0.0280735\n",
      "[6]\ttrain-auc:0.871389+0.0145809\ttest-auc:0.624308+0.0291835\n",
      "[7]\ttrain-auc:0.895109+0.0121665\ttest-auc:0.644368+0.0538952\n",
      "[8]\ttrain-auc:0.912586+0.0126259\ttest-auc:0.636505+0.0449627\n",
      "[9]\ttrain-auc:0.922347+0.00871506\ttest-auc:0.636228+0.0466585\n",
      "[10]\ttrain-auc:0.936209+0.0113212\ttest-auc:0.63346+0.0380729\n",
      "[11]\ttrain-auc:0.947258+0.0132368\ttest-auc:0.628248+0.0374894\n",
      "[12]\ttrain-auc:0.956417+0.0102649\ttest-auc:0.611765+0.036503\n",
      "[13]\ttrain-auc:0.965197+0.00848947\ttest-auc:0.603831+0.0406729\n",
      "[14]\ttrain-auc:0.972116+0.00709517\ttest-auc:0.596683+0.0374702\n",
      "[15]\ttrain-auc:0.978128+0.00750296\ttest-auc:0.586471+0.0370473\n",
      "[16]\ttrain-auc:0.984016+0.00491583\ttest-auc:0.588177+0.0300819\n",
      "[17]\ttrain-auc:0.987013+0.00402502\ttest-auc:0.5967+0.0254554\n",
      "[18]\ttrain-auc:0.989979+0.00326693\ttest-auc:0.60924+0.0333054\n",
      "[19]\ttrain-auc:0.992692+0.0019055\ttest-auc:0.601055+0.0415612\n"
     ]
    }
   ],
   "source": [
    "print('running cross validation')\n",
    "# do cross validation, this will print result out as\n",
    "# [iteration]  metric_name:mean_value+std_value\n",
    "# std_value is standard deviation of the metric\n",
    "result = xgb.cv(param, dtrain, num_round, nfold=5,\n",
    "       metrics={'auc'}, seed=0,\n",
    "       callbacks=[xgb.callback.print_evaluation(show_stdv=True)])"
   ]
  },
  {
   "cell_type": "code",
   "execution_count": 14,
   "metadata": {},
   "outputs": [
    {
     "data": {
      "text/plain": [
       "0.6443676"
      ]
     },
     "execution_count": 14,
     "metadata": {},
     "output_type": "execute_result"
    }
   ],
   "source": []
  },
  {
   "cell_type": "code",
   "execution_count": null,
   "metadata": {},
   "outputs": [],
   "source": []
  },
  {
   "cell_type": "code",
   "execution_count": 19,
   "metadata": {},
   "outputs": [],
   "source": [
    "import hyperopt\n",
    "\n",
    "from hyperopt import hp, tpe, Trials\n",
    "from hyperopt.fmin import fmin"
   ]
  },
  {
   "cell_type": "code",
   "execution_count": 20,
   "metadata": {},
   "outputs": [],
   "source": [
    "from sklearn.model_selection import cross_val_score, StratifiedKFold\n",
    "# https://www.kaggle.com/eikedehling/tune-and-compare-xgb-lightgbm-rf-with-hyperopt"
   ]
  },
  {
   "cell_type": "code",
   "execution_count": 26,
   "metadata": {},
   "outputs": [],
   "source": [
    "trials = Trials()\n"
   ]
  },
  {
   "cell_type": "code",
   "execution_count": null,
   "metadata": {},
   "outputs": [
    {
     "name": "stdout",
     "output_type": "stream",
     "text": [
      " 84%|████████▍ | 168/200 [16:24<15:15, 28.59s/trial, best loss: -0.6552801111111111]"
     ]
    }
   ],
   "source": [
    "def objective(params):\n",
    "    params = {\n",
    "        'max_depth': int(params['max_depth']),\n",
    "        'gamma': \"{:.3f}\".format(params['gamma']),\n",
    "        'colsample_bytree': '{:.3f}'.format(params['colsample_bytree']),\n",
    "    }\n",
    "    \n",
    "    params.update(param)\n",
    "    \n",
    "    result = xgb.cv(params, dtrain, num_round, nfold=9,\n",
    "       metrics={'auc'}, seed=0)\n",
    "    \n",
    "    score = result['test-auc-mean'].max()\n",
    "\n",
    "    return -score\n",
    "\n",
    "space = {\n",
    "    'max_depth': hp.quniform('max_depth', 2, 12, 1),\n",
    "    'colsample_bytree': hp.uniform('colsample_bytree', 0.3, 1.0),\n",
    "    'gamma': hp.uniform('gamma', 0.0, 0.5),\n",
    "}\n",
    "\n",
    "best = fmin(fn=objective,\n",
    "            space=space,\n",
    "            algo=tpe.suggest,\n",
    "            trials=trials,\n",
    "            max_evals=200)"
   ]
  },
  {
   "cell_type": "code",
   "execution_count": null,
   "metadata": {},
   "outputs": [],
   "source": [
    "best"
   ]
  },
  {
   "cell_type": "code",
   "execution_count": 23,
   "metadata": {},
   "outputs": [
    {
     "data": {
      "text/plain": [
       "{'colsample_bytree': 0.4998771532981213,\n",
       " 'gamma': 0.0635933855060849,\n",
       " 'max_depth': 5.0}"
      ]
     },
     "execution_count": 23,
     "metadata": {},
     "output_type": "execute_result"
    }
   ],
   "source": [
    "best"
   ]
  },
  {
   "cell_type": "code",
   "execution_count": null,
   "metadata": {},
   "outputs": [],
   "source": []
  }
 ],
 "metadata": {
  "kernelspec": {
   "display_name": "conda_python3",
   "language": "python",
   "name": "conda_python3"
  },
  "language_info": {
   "codemirror_mode": {
    "name": "ipython",
    "version": 3
   },
   "file_extension": ".py",
   "mimetype": "text/x-python",
   "name": "python",
   "nbconvert_exporter": "python",
   "pygments_lexer": "ipython3",
   "version": "3.6.7"
  }
 },
 "nbformat": 4,
 "nbformat_minor": 4
}
